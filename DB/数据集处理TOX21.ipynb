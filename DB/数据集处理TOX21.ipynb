{
 "cells": [
  {
   "cell_type": "code",
   "execution_count": 3,
   "metadata": {
    "collapsed": true
   },
   "outputs": [],
   "source": [
    "import deepchem as dc\n",
    "import pandas as pd\n",
    "from deepchem.feat.molecule_featurizers import MolGraphConvFeaturizer"
   ]
  },
  {
   "cell_type": "code",
   "execution_count": 17,
   "outputs": [],
   "source": [
    "d = dc.molnet.load_toxcast(save_dir='E:\\学习\\文献库\\pythonProject\\models')"
   ],
   "metadata": {
    "collapsed": false,
    "pycharm": {
     "name": "#%%\n"
    }
   }
  },
  {
   "cell_type": "code",
   "execution_count": 11,
   "outputs": [
    {
     "data": {
      "text/plain": "(['ACEA_T47D_80hr_Negative',\n  'ACEA_T47D_80hr_Positive',\n  'APR_HepG2_CellCycleArrest_24h_dn',\n  'APR_HepG2_CellCycleArrest_24h_up',\n  'APR_HepG2_CellCycleArrest_72h_dn',\n  'APR_HepG2_CellLoss_24h_dn',\n  'APR_HepG2_CellLoss_72h_dn',\n  'APR_HepG2_MicrotubuleCSK_24h_dn',\n  'APR_HepG2_MicrotubuleCSK_24h_up',\n  'APR_HepG2_MicrotubuleCSK_72h_dn',\n  'APR_HepG2_MicrotubuleCSK_72h_up',\n  'APR_HepG2_MitoMass_24h_dn',\n  'APR_HepG2_MitoMass_24h_up',\n  'APR_HepG2_MitoMass_72h_dn',\n  'APR_HepG2_MitoMass_72h_up',\n  'APR_HepG2_MitoMembPot_1h_dn',\n  'APR_HepG2_MitoMembPot_24h_dn',\n  'APR_HepG2_MitoMembPot_72h_dn',\n  'APR_HepG2_MitoticArrest_24h_up',\n  'APR_HepG2_MitoticArrest_72h_up',\n  'APR_HepG2_NuclearSize_24h_dn',\n  'APR_HepG2_NuclearSize_72h_dn',\n  'APR_HepG2_NuclearSize_72h_up',\n  'APR_HepG2_OxidativeStress_24h_up',\n  'APR_HepG2_OxidativeStress_72h_up',\n  'APR_HepG2_StressKinase_1h_up',\n  'APR_HepG2_StressKinase_24h_up',\n  'APR_HepG2_StressKinase_72h_up',\n  'APR_HepG2_p53Act_24h_up',\n  'APR_HepG2_p53Act_72h_up',\n  'APR_Hepat_Apoptosis_24hr_up',\n  'APR_Hepat_Apoptosis_48hr_up',\n  'APR_Hepat_CellLoss_24hr_dn',\n  'APR_Hepat_CellLoss_48hr_dn',\n  'APR_Hepat_DNADamage_24hr_up',\n  'APR_Hepat_DNADamage_48hr_up',\n  'APR_Hepat_DNATexture_24hr_up',\n  'APR_Hepat_DNATexture_48hr_up',\n  'APR_Hepat_MitoFxnI_1hr_dn',\n  'APR_Hepat_MitoFxnI_24hr_dn',\n  'APR_Hepat_MitoFxnI_48hr_dn',\n  'APR_Hepat_NuclearSize_24hr_dn',\n  'APR_Hepat_NuclearSize_48hr_dn',\n  'APR_Hepat_Steatosis_24hr_up',\n  'APR_Hepat_Steatosis_48hr_up',\n  'ATG_AP_1_CIS_dn',\n  'ATG_AP_1_CIS_up',\n  'ATG_AP_2_CIS_dn',\n  'ATG_AP_2_CIS_up',\n  'ATG_AR_TRANS_dn',\n  'ATG_AR_TRANS_up',\n  'ATG_Ahr_CIS_dn',\n  'ATG_Ahr_CIS_up',\n  'ATG_BRE_CIS_dn',\n  'ATG_BRE_CIS_up',\n  'ATG_CAR_TRANS_dn',\n  'ATG_CAR_TRANS_up',\n  'ATG_CMV_CIS_dn',\n  'ATG_CMV_CIS_up',\n  'ATG_CRE_CIS_dn',\n  'ATG_CRE_CIS_up',\n  'ATG_C_EBP_CIS_dn',\n  'ATG_C_EBP_CIS_up',\n  'ATG_DR4_LXR_CIS_dn',\n  'ATG_DR4_LXR_CIS_up',\n  'ATG_DR5_CIS_dn',\n  'ATG_DR5_CIS_up',\n  'ATG_E2F_CIS_dn',\n  'ATG_E2F_CIS_up',\n  'ATG_EGR_CIS_up',\n  'ATG_ERE_CIS_dn',\n  'ATG_ERE_CIS_up',\n  'ATG_ERRa_TRANS_dn',\n  'ATG_ERRg_TRANS_dn',\n  'ATG_ERRg_TRANS_up',\n  'ATG_ERa_TRANS_up',\n  'ATG_E_Box_CIS_dn',\n  'ATG_E_Box_CIS_up',\n  'ATG_Ets_CIS_dn',\n  'ATG_Ets_CIS_up',\n  'ATG_FXR_TRANS_up',\n  'ATG_FoxA2_CIS_dn',\n  'ATG_FoxA2_CIS_up',\n  'ATG_FoxO_CIS_dn',\n  'ATG_FoxO_CIS_up',\n  'ATG_GAL4_TRANS_dn',\n  'ATG_GATA_CIS_dn',\n  'ATG_GATA_CIS_up',\n  'ATG_GLI_CIS_dn',\n  'ATG_GLI_CIS_up',\n  'ATG_GRE_CIS_dn',\n  'ATG_GRE_CIS_up',\n  'ATG_GR_TRANS_dn',\n  'ATG_GR_TRANS_up',\n  'ATG_HIF1a_CIS_dn',\n  'ATG_HIF1a_CIS_up',\n  'ATG_HNF4a_TRANS_dn',\n  'ATG_HNF4a_TRANS_up',\n  'ATG_HNF6_CIS_dn',\n  'ATG_HNF6_CIS_up',\n  'ATG_HSE_CIS_dn',\n  'ATG_HSE_CIS_up',\n  'ATG_IR1_CIS_dn',\n  'ATG_IR1_CIS_up',\n  'ATG_ISRE_CIS_dn',\n  'ATG_ISRE_CIS_up',\n  'ATG_LXRa_TRANS_dn',\n  'ATG_LXRa_TRANS_up',\n  'ATG_LXRb_TRANS_dn',\n  'ATG_LXRb_TRANS_up',\n  'ATG_MRE_CIS_up',\n  'ATG_M_06_TRANS_up',\n  'ATG_M_19_CIS_dn',\n  'ATG_M_19_TRANS_dn',\n  'ATG_M_19_TRANS_up',\n  'ATG_M_32_CIS_dn',\n  'ATG_M_32_CIS_up',\n  'ATG_M_32_TRANS_dn',\n  'ATG_M_32_TRANS_up',\n  'ATG_M_61_TRANS_up',\n  'ATG_Myb_CIS_dn',\n  'ATG_Myb_CIS_up',\n  'ATG_Myc_CIS_dn',\n  'ATG_Myc_CIS_up',\n  'ATG_NFI_CIS_dn',\n  'ATG_NFI_CIS_up',\n  'ATG_NF_kB_CIS_dn',\n  'ATG_NF_kB_CIS_up',\n  'ATG_NRF1_CIS_dn',\n  'ATG_NRF1_CIS_up',\n  'ATG_NRF2_ARE_CIS_dn',\n  'ATG_NRF2_ARE_CIS_up',\n  'ATG_NURR1_TRANS_dn',\n  'ATG_NURR1_TRANS_up',\n  'ATG_Oct_MLP_CIS_dn',\n  'ATG_Oct_MLP_CIS_up',\n  'ATG_PBREM_CIS_dn',\n  'ATG_PBREM_CIS_up',\n  'ATG_PPARa_TRANS_dn',\n  'ATG_PPARa_TRANS_up',\n  'ATG_PPARd_TRANS_up',\n  'ATG_PPARg_TRANS_up',\n  'ATG_PPRE_CIS_dn',\n  'ATG_PPRE_CIS_up',\n  'ATG_PXRE_CIS_dn',\n  'ATG_PXRE_CIS_up',\n  'ATG_PXR_TRANS_dn',\n  'ATG_PXR_TRANS_up',\n  'ATG_Pax6_CIS_up',\n  'ATG_RARa_TRANS_dn',\n  'ATG_RARa_TRANS_up',\n  'ATG_RARb_TRANS_dn',\n  'ATG_RARb_TRANS_up',\n  'ATG_RARg_TRANS_dn',\n  'ATG_RARg_TRANS_up',\n  'ATG_RORE_CIS_dn',\n  'ATG_RORE_CIS_up',\n  'ATG_RORb_TRANS_dn',\n  'ATG_RORg_TRANS_dn',\n  'ATG_RORg_TRANS_up',\n  'ATG_RXRa_TRANS_dn',\n  'ATG_RXRa_TRANS_up',\n  'ATG_RXRb_TRANS_dn',\n  'ATG_RXRb_TRANS_up',\n  'ATG_SREBP_CIS_dn',\n  'ATG_SREBP_CIS_up',\n  'ATG_STAT3_CIS_dn',\n  'ATG_STAT3_CIS_up',\n  'ATG_Sox_CIS_dn',\n  'ATG_Sox_CIS_up',\n  'ATG_Sp1_CIS_dn',\n  'ATG_Sp1_CIS_up',\n  'ATG_TAL_CIS_dn',\n  'ATG_TAL_CIS_up',\n  'ATG_TA_CIS_dn',\n  'ATG_TA_CIS_up',\n  'ATG_TCF_b_cat_CIS_dn',\n  'ATG_TCF_b_cat_CIS_up',\n  'ATG_TGFb_CIS_dn',\n  'ATG_TGFb_CIS_up',\n  'ATG_THRa1_TRANS_dn',\n  'ATG_THRa1_TRANS_up',\n  'ATG_VDRE_CIS_dn',\n  'ATG_VDRE_CIS_up',\n  'ATG_VDR_TRANS_dn',\n  'ATG_VDR_TRANS_up',\n  'ATG_XTT_Cytotoxicity_up',\n  'ATG_Xbp1_CIS_dn',\n  'ATG_Xbp1_CIS_up',\n  'ATG_p53_CIS_dn',\n  'ATG_p53_CIS_up',\n  'BSK_3C_Eselectin_down',\n  'BSK_3C_HLADR_down',\n  'BSK_3C_ICAM1_down',\n  'BSK_3C_IL8_down',\n  'BSK_3C_MCP1_down',\n  'BSK_3C_MIG_down',\n  'BSK_3C_Proliferation_down',\n  'BSK_3C_SRB_down',\n  'BSK_3C_Thrombomodulin_down',\n  'BSK_3C_Thrombomodulin_up',\n  'BSK_3C_TissueFactor_down',\n  'BSK_3C_TissueFactor_up',\n  'BSK_3C_VCAM1_down',\n  'BSK_3C_Vis_down',\n  'BSK_3C_uPAR_down',\n  'BSK_4H_Eotaxin3_down',\n  'BSK_4H_MCP1_down',\n  'BSK_4H_Pselectin_down',\n  'BSK_4H_Pselectin_up',\n  'BSK_4H_SRB_down',\n  'BSK_4H_VCAM1_down',\n  'BSK_4H_VEGFRII_down',\n  'BSK_4H_uPAR_down',\n  'BSK_4H_uPAR_up',\n  'BSK_BE3C_HLADR_down',\n  'BSK_BE3C_IL1a_down',\n  'BSK_BE3C_IP10_down',\n  'BSK_BE3C_MIG_down',\n  'BSK_BE3C_MMP1_down',\n  'BSK_BE3C_MMP1_up',\n  'BSK_BE3C_PAI1_down',\n  'BSK_BE3C_SRB_down',\n  'BSK_BE3C_TGFb1_down',\n  'BSK_BE3C_tPA_down',\n  'BSK_BE3C_uPAR_down',\n  'BSK_BE3C_uPAR_up',\n  'BSK_BE3C_uPA_down',\n  'BSK_CASM3C_HLADR_down',\n  'BSK_CASM3C_IL6_down',\n  'BSK_CASM3C_IL6_up',\n  'BSK_CASM3C_IL8_down',\n  'BSK_CASM3C_LDLR_down',\n  'BSK_CASM3C_LDLR_up',\n  'BSK_CASM3C_MCP1_down',\n  'BSK_CASM3C_MCP1_up',\n  'BSK_CASM3C_MCSF_down',\n  'BSK_CASM3C_MCSF_up',\n  'BSK_CASM3C_MIG_down',\n  'BSK_CASM3C_Proliferation_down',\n  'BSK_CASM3C_Proliferation_up',\n  'BSK_CASM3C_SAA_down',\n  'BSK_CASM3C_SAA_up',\n  'BSK_CASM3C_SRB_down',\n  'BSK_CASM3C_Thrombomodulin_down',\n  'BSK_CASM3C_Thrombomodulin_up',\n  'BSK_CASM3C_TissueFactor_down',\n  'BSK_CASM3C_VCAM1_down',\n  'BSK_CASM3C_VCAM1_up',\n  'BSK_CASM3C_uPAR_down',\n  'BSK_CASM3C_uPAR_up',\n  'BSK_KF3CT_ICAM1_down',\n  'BSK_KF3CT_IL1a_down',\n  'BSK_KF3CT_IP10_down',\n  'BSK_KF3CT_IP10_up',\n  'BSK_KF3CT_MCP1_down',\n  'BSK_KF3CT_MCP1_up',\n  'BSK_KF3CT_MMP9_down',\n  'BSK_KF3CT_SRB_down',\n  'BSK_KF3CT_TGFb1_down',\n  'BSK_KF3CT_TIMP2_down',\n  'BSK_KF3CT_uPA_down',\n  'BSK_LPS_CD40_down',\n  'BSK_LPS_Eselectin_down',\n  'BSK_LPS_Eselectin_up',\n  'BSK_LPS_IL1a_down',\n  'BSK_LPS_IL1a_up',\n  'BSK_LPS_IL8_down',\n  'BSK_LPS_IL8_up',\n  'BSK_LPS_MCP1_down',\n  'BSK_LPS_MCSF_down',\n  'BSK_LPS_PGE2_down',\n  'BSK_LPS_PGE2_up',\n  'BSK_LPS_SRB_down',\n  'BSK_LPS_TNFa_down',\n  'BSK_LPS_TNFa_up',\n  'BSK_LPS_TissueFactor_down',\n  'BSK_LPS_TissueFactor_up',\n  'BSK_LPS_VCAM1_down',\n  'BSK_SAg_CD38_down',\n  'BSK_SAg_CD40_down',\n  'BSK_SAg_CD69_down',\n  'BSK_SAg_Eselectin_down',\n  'BSK_SAg_Eselectin_up',\n  'BSK_SAg_IL8_down',\n  'BSK_SAg_IL8_up',\n  'BSK_SAg_MCP1_down',\n  'BSK_SAg_MIG_down',\n  'BSK_SAg_PBMCCytotoxicity_down',\n  'BSK_SAg_PBMCCytotoxicity_up',\n  'BSK_SAg_Proliferation_down',\n  'BSK_SAg_SRB_down',\n  'BSK_hDFCGF_CollagenIII_down',\n  'BSK_hDFCGF_EGFR_down',\n  'BSK_hDFCGF_EGFR_up',\n  'BSK_hDFCGF_IL8_down',\n  'BSK_hDFCGF_IP10_down',\n  'BSK_hDFCGF_MCSF_down',\n  'BSK_hDFCGF_MIG_down',\n  'BSK_hDFCGF_MMP1_down',\n  'BSK_hDFCGF_MMP1_up',\n  'BSK_hDFCGF_PAI1_down',\n  'BSK_hDFCGF_Proliferation_down',\n  'BSK_hDFCGF_SRB_down',\n  'BSK_hDFCGF_TIMP1_down',\n  'BSK_hDFCGF_VCAM1_down',\n  'CEETOX_H295R_11DCORT_dn',\n  'CEETOX_H295R_ANDR_dn',\n  'CEETOX_H295R_CORTISOL_dn',\n  'CEETOX_H295R_DOC_dn',\n  'CEETOX_H295R_DOC_up',\n  'CEETOX_H295R_ESTRADIOL_dn',\n  'CEETOX_H295R_ESTRADIOL_up',\n  'CEETOX_H295R_ESTRONE_dn',\n  'CEETOX_H295R_ESTRONE_up',\n  'CEETOX_H295R_OHPREG_up',\n  'CEETOX_H295R_OHPROG_dn',\n  'CEETOX_H295R_OHPROG_up',\n  'CEETOX_H295R_PROG_up',\n  'CEETOX_H295R_TESTO_dn',\n  'CLD_ABCB1_48hr',\n  'CLD_ABCG2_48hr',\n  'CLD_CYP1A1_24hr',\n  'CLD_CYP1A1_48hr',\n  'CLD_CYP1A1_6hr',\n  'CLD_CYP1A2_24hr',\n  'CLD_CYP1A2_48hr',\n  'CLD_CYP1A2_6hr',\n  'CLD_CYP2B6_24hr',\n  'CLD_CYP2B6_48hr',\n  'CLD_CYP2B6_6hr',\n  'CLD_CYP3A4_24hr',\n  'CLD_CYP3A4_48hr',\n  'CLD_CYP3A4_6hr',\n  'CLD_GSTA2_48hr',\n  'CLD_SULT2A_24hr',\n  'CLD_SULT2A_48hr',\n  'CLD_UGT1A1_24hr',\n  'CLD_UGT1A1_48hr',\n  'NCCT_HEK293T_CellTiterGLO',\n  'NCCT_QuantiLum_inhib_2_dn',\n  'NCCT_QuantiLum_inhib_dn',\n  'NCCT_TPO_AUR_dn',\n  'NCCT_TPO_GUA_dn',\n  'NHEERL_ZF_144hpf_TERATOSCORE_up',\n  'NVS_ADME_hCYP19A1',\n  'NVS_ADME_hCYP1A1',\n  'NVS_ADME_hCYP1A2',\n  'NVS_ADME_hCYP2A6',\n  'NVS_ADME_hCYP2B6',\n  'NVS_ADME_hCYP2C19',\n  'NVS_ADME_hCYP2C9',\n  'NVS_ADME_hCYP2D6',\n  'NVS_ADME_hCYP3A4',\n  'NVS_ADME_hCYP4F12',\n  'NVS_ADME_rCYP2C12',\n  'NVS_ENZ_hAChE',\n  'NVS_ENZ_hAMPKa1',\n  'NVS_ENZ_hAurA',\n  'NVS_ENZ_hBACE',\n  'NVS_ENZ_hCASP5',\n  'NVS_ENZ_hCK1D',\n  'NVS_ENZ_hDUSP3',\n  'NVS_ENZ_hES',\n  'NVS_ENZ_hElastase',\n  'NVS_ENZ_hFGFR1',\n  'NVS_ENZ_hGSK3b',\n  'NVS_ENZ_hMMP1',\n  'NVS_ENZ_hMMP13',\n  'NVS_ENZ_hMMP2',\n  'NVS_ENZ_hMMP3',\n  'NVS_ENZ_hMMP7',\n  'NVS_ENZ_hMMP9',\n  'NVS_ENZ_hPDE10',\n  'NVS_ENZ_hPDE4A1',\n  'NVS_ENZ_hPDE5',\n  'NVS_ENZ_hPI3Ka',\n  'NVS_ENZ_hPTEN',\n  'NVS_ENZ_hPTPN11',\n  'NVS_ENZ_hPTPN12',\n  'NVS_ENZ_hPTPN13',\n  'NVS_ENZ_hPTPN9',\n  'NVS_ENZ_hPTPRC',\n  'NVS_ENZ_hSIRT1',\n  'NVS_ENZ_hSIRT2',\n  'NVS_ENZ_hTrkA',\n  'NVS_ENZ_hVEGFR2',\n  'NVS_ENZ_oCOX1',\n  'NVS_ENZ_oCOX2',\n  'NVS_ENZ_rAChE',\n  'NVS_ENZ_rCNOS',\n  'NVS_ENZ_rMAOAC',\n  'NVS_ENZ_rMAOAP',\n  'NVS_ENZ_rMAOBC',\n  'NVS_ENZ_rMAOBP',\n  'NVS_ENZ_rabI2C',\n  'NVS_GPCR_bAdoR_NonSelective',\n  'NVS_GPCR_bDR_NonSelective',\n  'NVS_GPCR_g5HT4',\n  'NVS_GPCR_gH2',\n  'NVS_GPCR_gLTB4',\n  'NVS_GPCR_gLTD4',\n  'NVS_GPCR_gMPeripheral_NonSelective',\n  'NVS_GPCR_gOpiateK',\n  'NVS_GPCR_h5HT2A',\n  'NVS_GPCR_h5HT5A',\n  'NVS_GPCR_h5HT6',\n  'NVS_GPCR_h5HT7',\n  'NVS_GPCR_hAT1',\n  'NVS_GPCR_hAdoRA1',\n  'NVS_GPCR_hAdoRA2a',\n  'NVS_GPCR_hAdra2A',\n  'NVS_GPCR_hAdra2C',\n  'NVS_GPCR_hAdrb1',\n  'NVS_GPCR_hAdrb2',\n  'NVS_GPCR_hAdrb3',\n  'NVS_GPCR_hDRD1',\n  'NVS_GPCR_hDRD2s',\n  'NVS_GPCR_hDRD4.4',\n  'NVS_GPCR_hH1',\n  'NVS_GPCR_hLTB4_BLT1',\n  'NVS_GPCR_hM1',\n  'NVS_GPCR_hM2',\n  'NVS_GPCR_hM3',\n  'NVS_GPCR_hM4',\n  'NVS_GPCR_hNK2',\n  'NVS_GPCR_hOpiate_D1',\n  'NVS_GPCR_hOpiate_mu',\n  'NVS_GPCR_hTXA2',\n  'NVS_GPCR_p5HT2C',\n  'NVS_GPCR_r5HT1_NonSelective',\n  'NVS_GPCR_r5HT_NonSelective',\n  'NVS_GPCR_rAdra1B',\n  'NVS_GPCR_rAdra1_NonSelective',\n  'NVS_GPCR_rAdra2_NonSelective',\n  'NVS_GPCR_rAdrb_NonSelective',\n  'NVS_GPCR_rNK1',\n  'NVS_GPCR_rNK3',\n  'NVS_GPCR_rOpiate_NonSelective',\n  'NVS_GPCR_rOpiate_NonSelectiveNa',\n  'NVS_GPCR_rSST',\n  'NVS_GPCR_rTRH',\n  'NVS_GPCR_rV1',\n  'NVS_GPCR_rabPAF',\n  'NVS_GPCR_rmAdra2B',\n  'NVS_IC_hKhERGCh',\n  'NVS_IC_rCaBTZCHL',\n  'NVS_IC_rCaDHPRCh_L',\n  'NVS_IC_rNaCh_site2',\n  'NVS_LGIC_bGABARa1',\n  'NVS_LGIC_h5HT3',\n  'NVS_LGIC_hNNR_NBungSens',\n  'NVS_LGIC_rGABAR_NonSelective',\n  'NVS_LGIC_rNNR_BungSens',\n  'NVS_MP_hPBR',\n  'NVS_MP_rPBR',\n  'NVS_NR_bER',\n  'NVS_NR_bPR',\n  'NVS_NR_cAR',\n  'NVS_NR_hAR',\n  'NVS_NR_hCAR_Antagonist',\n  'NVS_NR_hER',\n  'NVS_NR_hFXR_Agonist',\n  'NVS_NR_hFXR_Antagonist',\n  'NVS_NR_hGR',\n  'NVS_NR_hPPARa',\n  'NVS_NR_hPPARg',\n  'NVS_NR_hPR',\n  'NVS_NR_hPXR',\n  'NVS_NR_hRAR_Antagonist',\n  'NVS_NR_hRARa_Agonist',\n  'NVS_NR_hTRa_Antagonist',\n  'NVS_NR_mERa',\n  'NVS_NR_rAR',\n  'NVS_NR_rMR',\n  'NVS_OR_gSIGMA_NonSelective',\n  'NVS_TR_gDAT',\n  'NVS_TR_hAdoT',\n  'NVS_TR_hDAT',\n  'NVS_TR_hNET',\n  'NVS_TR_hSERT',\n  'NVS_TR_rNET',\n  'NVS_TR_rSERT',\n  'NVS_TR_rVMAT2',\n  'OT_AR_ARELUC_AG_1440',\n  'OT_AR_ARSRC1_0480',\n  'OT_AR_ARSRC1_0960',\n  'OT_ER_ERaERa_0480',\n  'OT_ER_ERaERa_1440',\n  'OT_ER_ERaERb_0480',\n  'OT_ER_ERaERb_1440',\n  'OT_ER_ERbERb_0480',\n  'OT_ER_ERbERb_1440',\n  'OT_ERa_EREGFP_0120',\n  'OT_ERa_EREGFP_0480',\n  'OT_FXR_FXRSRC1_0480',\n  'OT_FXR_FXRSRC1_1440',\n  'OT_NURR1_NURR1RXRa_0480',\n  'OT_NURR1_NURR1RXRa_1440',\n  'TOX21_ARE_BLA_Agonist_ch1',\n  'TOX21_ARE_BLA_Agonist_ch2',\n  'TOX21_ARE_BLA_agonist_ratio',\n  'TOX21_ARE_BLA_agonist_viability',\n  'TOX21_AR_BLA_Agonist_ch1',\n  'TOX21_AR_BLA_Agonist_ch2',\n  'TOX21_AR_BLA_Agonist_ratio',\n  'TOX21_AR_BLA_Antagonist_ch1',\n  'TOX21_AR_BLA_Antagonist_ch2',\n  'TOX21_AR_BLA_Antagonist_ratio',\n  'TOX21_AR_BLA_Antagonist_viability',\n  'TOX21_AR_LUC_MDAKB2_Agonist',\n  'TOX21_AR_LUC_MDAKB2_Antagonist',\n  'TOX21_AR_LUC_MDAKB2_Antagonist2',\n  'TOX21_AhR_LUC_Agonist',\n  'TOX21_Aromatase_Inhibition',\n  'TOX21_AutoFluor_HEK293_Cell_blue',\n  'TOX21_AutoFluor_HEK293_Media_blue',\n  'TOX21_AutoFluor_HEPG2_Cell_blue',\n  'TOX21_AutoFluor_HEPG2_Cell_green',\n  'TOX21_AutoFluor_HEPG2_Media_blue',\n  'TOX21_AutoFluor_HEPG2_Media_green',\n  'TOX21_ELG1_LUC_Agonist',\n  'TOX21_ERa_BLA_Agonist_ch1',\n  'TOX21_ERa_BLA_Agonist_ch2',\n  'TOX21_ERa_BLA_Agonist_ratio',\n  'TOX21_ERa_BLA_Antagonist_ch1',\n  'TOX21_ERa_BLA_Antagonist_ch2',\n  'TOX21_ERa_BLA_Antagonist_ratio',\n  'TOX21_ERa_BLA_Antagonist_viability',\n  'TOX21_ERa_LUC_BG1_Agonist',\n  'TOX21_ERa_LUC_BG1_Antagonist',\n  'TOX21_ESRE_BLA_ch1',\n  'TOX21_ESRE_BLA_ch2',\n  'TOX21_ESRE_BLA_ratio',\n  'TOX21_ESRE_BLA_viability',\n  'TOX21_FXR_BLA_Antagonist_ch1',\n  'TOX21_FXR_BLA_Antagonist_ch2',\n  'TOX21_FXR_BLA_agonist_ch2',\n  'TOX21_FXR_BLA_agonist_ratio',\n  'TOX21_FXR_BLA_antagonist_ratio',\n  'TOX21_FXR_BLA_antagonist_viability',\n  'TOX21_GR_BLA_Agonist_ch1',\n  'TOX21_GR_BLA_Agonist_ch2',\n  'TOX21_GR_BLA_Agonist_ratio',\n  'TOX21_GR_BLA_Antagonist_ch2',\n  'TOX21_GR_BLA_Antagonist_ratio',\n  'TOX21_GR_BLA_Antagonist_viability',\n  'TOX21_HSE_BLA_agonist_ch1',\n  'TOX21_HSE_BLA_agonist_ch2',\n  'TOX21_HSE_BLA_agonist_ratio',\n  'TOX21_HSE_BLA_agonist_viability',\n  'TOX21_MMP_ratio_down',\n  'TOX21_MMP_ratio_up',\n  'TOX21_MMP_viability',\n  'TOX21_NFkB_BLA_agonist_ch1',\n  'TOX21_NFkB_BLA_agonist_ch2',\n  'TOX21_NFkB_BLA_agonist_ratio',\n  'TOX21_NFkB_BLA_agonist_viability',\n  'TOX21_PPARd_BLA_Agonist_viability',\n  'TOX21_PPARd_BLA_Antagonist_ch1',\n  'TOX21_PPARd_BLA_agonist_ch1',\n  'TOX21_PPARd_BLA_agonist_ch2',\n  'TOX21_PPARd_BLA_agonist_ratio',\n  'TOX21_PPARd_BLA_antagonist_ratio',\n  'TOX21_PPARd_BLA_antagonist_viability',\n  'TOX21_PPARg_BLA_Agonist_ch1',\n  'TOX21_PPARg_BLA_Agonist_ch2',\n  'TOX21_PPARg_BLA_Agonist_ratio',\n  'TOX21_PPARg_BLA_Antagonist_ch1',\n  'TOX21_PPARg_BLA_antagonist_ratio',\n  'TOX21_PPARg_BLA_antagonist_viability',\n  'TOX21_TR_LUC_GH3_Agonist',\n  'TOX21_TR_LUC_GH3_Antagonist',\n  'TOX21_VDR_BLA_Agonist_viability',\n  'TOX21_VDR_BLA_Antagonist_ch1',\n  'TOX21_VDR_BLA_agonist_ch2',\n  'TOX21_VDR_BLA_agonist_ratio',\n  'TOX21_VDR_BLA_antagonist_ratio',\n  'TOX21_VDR_BLA_antagonist_viability',\n  'TOX21_p53_BLA_p1_ch1',\n  'TOX21_p53_BLA_p1_ch2',\n  'TOX21_p53_BLA_p1_ratio',\n  'TOX21_p53_BLA_p1_viability',\n  'TOX21_p53_BLA_p2_ch1',\n  'TOX21_p53_BLA_p2_ch2',\n  'TOX21_p53_BLA_p2_ratio',\n  'TOX21_p53_BLA_p2_viability',\n  'TOX21_p53_BLA_p3_ch1',\n  'TOX21_p53_BLA_p3_ch2',\n  'TOX21_p53_BLA_p3_ratio',\n  'TOX21_p53_BLA_p3_viability',\n  'TOX21_p53_BLA_p4_ch1',\n  'TOX21_p53_BLA_p4_ch2',\n  'TOX21_p53_BLA_p4_ratio',\n  'TOX21_p53_BLA_p4_viability',\n  'TOX21_p53_BLA_p5_ch1',\n  'TOX21_p53_BLA_p5_ch2',\n  'TOX21_p53_BLA_p5_ratio',\n  'TOX21_p53_BLA_p5_viability',\n  'Tanguay_ZF_120hpf_AXIS_up',\n  'Tanguay_ZF_120hpf_ActivityScore',\n  'Tanguay_ZF_120hpf_BRAI_up',\n  'Tanguay_ZF_120hpf_CFIN_up',\n  'Tanguay_ZF_120hpf_CIRC_up',\n  'Tanguay_ZF_120hpf_EYE_up',\n  'Tanguay_ZF_120hpf_JAW_up',\n  'Tanguay_ZF_120hpf_MORT_up',\n  'Tanguay_ZF_120hpf_OTIC_up',\n  'Tanguay_ZF_120hpf_PE_up',\n  'Tanguay_ZF_120hpf_PFIN_up',\n  'Tanguay_ZF_120hpf_PIG_up',\n  'Tanguay_ZF_120hpf_SNOU_up',\n  'Tanguay_ZF_120hpf_SOMI_up',\n  'Tanguay_ZF_120hpf_SWIM_up',\n  'Tanguay_ZF_120hpf_TRUN_up',\n  'Tanguay_ZF_120hpf_TR_up',\n  'Tanguay_ZF_120hpf_YSE_up'],\n (<DiskDataset X.shape: (6861, 1024), y.shape: (6861, 617), w.shape: (6861, 617), task_names: ['ACEA_T47D_80hr_Negative' 'ACEA_T47D_80hr_Positive'\n   'APR_HepG2_CellCycleArrest_24h_dn' ... 'Tanguay_ZF_120hpf_TRUN_up'\n   'Tanguay_ZF_120hpf_TR_up' 'Tanguay_ZF_120hpf_YSE_up']>,\n  <DiskDataset X.shape: (858, 1024), y.shape: (858, 617), w.shape: (858, 617), ids: ['CCOC(=O)C1CC(=O)C(=C(O)C2CC2)C(=O)C1' 'O=C(NCN1CCOCC1)C1=CN=CC=N1'\n   'OC1=C([C@H]2CC[C@@H](CC2)C2=CC=C(Cl)C=C2)C(=O)C2=CC=CC=C2C1=O' ...\n   'O[C@@H]1O[C@@H]2[C@@H](O)C(=O)O[C@@H]2[C@H]1O'\n   'OC1=CC=C(C=C1)C1(C2=C(C=CC=C2)C2=C1C=CC=C2)C1=CC=C(O)C=C1'\n   'C[C@@H](CC1=CC=CC=C1)NC(=O)NS(=O)(=O)C1=CC=C(C)C=C1'], task_names: ['ACEA_T47D_80hr_Negative' 'ACEA_T47D_80hr_Positive'\n   'APR_HepG2_CellCycleArrest_24h_dn' ... 'Tanguay_ZF_120hpf_TRUN_up'\n   'Tanguay_ZF_120hpf_TR_up' 'Tanguay_ZF_120hpf_YSE_up']>,\n  <DiskDataset X.shape: (858, 1024), y.shape: (858, 617), w.shape: (858, 617), ids: ['OC(=O)C(O)=O.CCN(CC)CCOC(=O)C(CC1CCCO1)CC1=C2C=CC=CC2=CC=C1'\n   'CNC(=O)C1=C(SC2=CC=C3C(NN=C3\\\\C=C\\\\C3=NC=CC=C3)=C2)C=CC=C1'\n   'OC(=O)C(O)=O.CN(C)C1CSSSC1' ...\n   'OC[C@H]1O[C@@H]2O[C@@H]3[C@@H](CO)O[C@H](O[C@@H]4[C@@H](CO)O[C@H](O[C@@H]5[C@@H](CO)O[C@H](O[C@@H]6[C@@H](CO)O[C@H](O[C@@H]7[C@@H](CO)O[C@H](O[C@H]1[C@H](O)[C@H]2O)[C@H](O)[C@H]7O)[C@H](O)[C@H]6O)[C@H](O)[C@H]5O)[C@H](O)[C@H]4O)[C@H](O)[C@H]3O'\n   'CC1=CC(=O)NO1' 'CN1CCN(CC1)C(=O)C1CCCCC1'], task_names: ['ACEA_T47D_80hr_Negative' 'ACEA_T47D_80hr_Positive'\n   'APR_HepG2_CellCycleArrest_24h_dn' ... 'Tanguay_ZF_120hpf_TRUN_up'\n   'Tanguay_ZF_120hpf_TR_up' 'Tanguay_ZF_120hpf_YSE_up']>),\n [<deepchem.trans.transformers.BalancingTransformer at 0x23895a4ec48>])"
     },
     "execution_count": 11,
     "metadata": {},
     "output_type": "execute_result"
    }
   ],
   "source": [
    "d."
   ],
   "metadata": {
    "collapsed": false,
    "pycharm": {
     "name": "#%%\n"
    }
   }
  },
  {
   "cell_type": "code",
   "execution_count": 12,
   "outputs": [],
   "source": [
    "a = d[1]"
   ],
   "metadata": {
    "collapsed": false,
    "pycharm": {
     "name": "#%%\n"
    }
   }
  },
  {
   "cell_type": "code",
   "execution_count": 15,
   "outputs": [
    {
     "data": {
      "text/plain": "(6861, 617)"
     },
     "execution_count": 15,
     "metadata": {},
     "output_type": "execute_result"
    }
   ],
   "source": [
    "a[0].y.shape"
   ],
   "metadata": {
    "collapsed": false,
    "pycharm": {
     "name": "#%%\n"
    }
   }
  },
  {
   "cell_type": "code",
   "execution_count": null,
   "outputs": [],
   "source": [],
   "metadata": {
    "collapsed": false,
    "pycharm": {
     "name": "#%%\n"
    }
   }
  }
 ],
 "metadata": {
  "kernelspec": {
   "name": "miku",
   "language": "python",
   "display_name": "Miku"
  },
  "language_info": {
   "codemirror_mode": {
    "name": "ipython",
    "version": 2
   },
   "file_extension": ".py",
   "mimetype": "text/x-python",
   "name": "python",
   "nbconvert_exporter": "python",
   "pygments_lexer": "ipython2",
   "version": "2.7.6"
  }
 },
 "nbformat": 4,
 "nbformat_minor": 0
}