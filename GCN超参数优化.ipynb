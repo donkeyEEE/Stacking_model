{
 "cells": [
  {
   "cell_type": "markdown",
   "id": "f25df5d8",
   "metadata": {},
   "source": [
    "## 导入库+加载数据"
   ]
  },
  {
   "cell_type": "code",
   "execution_count": 1,
   "id": "78dd9827",
   "metadata": {},
   "outputs": [
    {
     "name": "stderr",
     "output_type": "stream",
     "text": [
      "Skipped loading some Tensorflow models, missing a dependency. No module named 'tensorflow'\n",
      "Skipped loading modules with pytorch-lightning dependency, missing a dependency. No module named 'pytorch_lightning'\n",
      "Skipped loading some Jax models, missing a dependency. No module named 'jax'\n"
     ]
    }
   ],
   "source": [
    "from models import utils,Layers"
   ]
  },
  {
   "cell_type": "code",
   "execution_count": 2,
   "id": "7a171e36",
   "metadata": {},
   "outputs": [],
   "source": [
    "from DB.DB import db"
   ]
  },
  {
   "cell_type": "code",
   "execution_count": 4,
   "id": "6f2b5317",
   "metadata": {},
   "outputs": [
    {
     "name": "stdout",
     "output_type": "stream",
     "text": [
      "data already finished size =9026\n"
     ]
    }
   ],
   "source": [
    "dataloader = db('DataBase/DB.csv')"
   ]
  },
  {
   "cell_type": "code",
   "execution_count": 6,
   "id": "f692dfc5",
   "metadata": {},
   "outputs": [
    {
     "name": "stdout",
     "output_type": "stream",
     "text": [
      "fold0\n"
     ]
    },
    {
     "data": {
      "text/plain": [
       "(7220, 3)"
      ]
     },
     "execution_count": 6,
     "metadata": {},
     "output_type": "execute_result"
    }
   ],
   "source": [
    "train, test = next(dataloader.get_folds())\n",
    "train.shape"
   ]
  },
  {
   "cell_type": "code",
   "execution_count": 7,
   "id": "186a96d8",
   "metadata": {},
   "outputs": [],
   "source": [
    "from deepchem.models import GCNModel"
   ]
  },
  {
   "cell_type": "markdown",
   "id": "8570fb22",
   "metadata": {},
   "source": [
    "## 定义模型然后进行超参数优化"
   ]
  },
  {
   "cell_type": "code",
   "execution_count": 12,
   "id": "0100537f",
   "metadata": {},
   "outputs": [],
   "source": [
    "GCN = GCNModel(mode='regression',  \n",
    "               n_tasks=1,\n",
    "               graph_conv_layers =[64 for i in range(5)], # 图卷积层数和卷积核的大小\n",
    "               batch_size=64,  \n",
    "               learning_rate=0.008)"
   ]
  },
  {
   "cell_type": "code",
   "execution_count": 13,
   "id": "b907c2d9",
   "metadata": {},
   "outputs": [
    {
     "ename": "KeyboardInterrupt",
     "evalue": "",
     "output_type": "error",
     "traceback": [
      "\u001b[1;31m---------------------------------------------------------------------------\u001b[0m",
      "\u001b[1;31mKeyboardInterrupt\u001b[0m                         Traceback (most recent call last)",
      "\u001b[1;32m~\\AppData\\Local\\Temp\\ipykernel_19616\\781851450.py\u001b[0m in \u001b[0;36m<module>\u001b[1;34m\u001b[0m\n\u001b[0;32m      4\u001b[0m                                         \u001b[0mmode\u001b[0m\u001b[1;33m=\u001b[0m \u001b[1;34m\"GAT\"\u001b[0m\u001b[1;33m,\u001b[0m\u001b[1;33m\u001b[0m\u001b[1;33m\u001b[0m\u001b[0m\n\u001b[0;32m      5\u001b[0m                                         \u001b[0mepoch\u001b[0m\u001b[1;33m=\u001b[0m \u001b[1;36m40\u001b[0m\u001b[1;33m,\u001b[0m\u001b[1;33m\u001b[0m\u001b[1;33m\u001b[0m\u001b[0m\n\u001b[1;32m----> 6\u001b[1;33m                                         \u001b[0msave\u001b[0m\u001b[1;33m=\u001b[0m \u001b[1;32mTrue\u001b[0m\u001b[1;33m,\u001b[0m\u001b[1;33m\u001b[0m\u001b[1;33m\u001b[0m\u001b[0m\n\u001b[0m\u001b[0;32m      7\u001b[0m                                        )\n",
      "\u001b[1;32mE:\\jupyter_files\\科研\\Stacking_model\\models\\utils.py\u001b[0m in \u001b[0;36mrun_fun_AFP_MAT\u001b[1;34m(model, train_dataset, test_dataset, mode_class, mode, epoch, save)\u001b[0m\n\u001b[0;32m    461\u001b[0m \u001b[1;33m\u001b[0m\u001b[0m\n\u001b[0;32m    462\u001b[0m     \u001b[1;32mif\u001b[0m \u001b[1;32mTrue\u001b[0m\u001b[1;33m:\u001b[0m\u001b[1;33m\u001b[0m\u001b[1;33m\u001b[0m\u001b[0m\n\u001b[1;32m--> 463\u001b[1;33m         \u001b[0mtrain_dataset\u001b[0m \u001b[1;33m=\u001b[0m \u001b[0mdataloader_PytorchModel\u001b[0m\u001b[1;33m(\u001b[0m\u001b[0mtrain_dataset\u001b[0m\u001b[1;33m,\u001b[0m \u001b[0mfeaturizer\u001b[0m\u001b[1;33m)\u001b[0m\u001b[1;33m\u001b[0m\u001b[1;33m\u001b[0m\u001b[0m\n\u001b[0m\u001b[0;32m    464\u001b[0m         \u001b[0mtest_dataset\u001b[0m \u001b[1;33m=\u001b[0m \u001b[0mdataloader_PytorchModel\u001b[0m\u001b[1;33m(\u001b[0m\u001b[0mtest_dataset\u001b[0m\u001b[1;33m,\u001b[0m \u001b[0mfeaturizer\u001b[0m\u001b[1;33m)\u001b[0m\u001b[1;33m\u001b[0m\u001b[1;33m\u001b[0m\u001b[0m\n\u001b[0;32m    465\u001b[0m         \u001b[0mprint\u001b[0m\u001b[1;33m(\u001b[0m\u001b[1;34m'完成转换,start fitting'\u001b[0m\u001b[1;33m)\u001b[0m\u001b[1;33m\u001b[0m\u001b[1;33m\u001b[0m\u001b[0m\n",
      "\u001b[1;32mE:\\jupyter_files\\科研\\Stacking_model\\models\\utils.py\u001b[0m in \u001b[0;36mdataloader_PytorchModel\u001b[1;34m(df, featurizer)\u001b[0m\n\u001b[0;32m    398\u001b[0m     \u001b[1;31m# featurizer = dc.feat.MolGraphConvFeaturizer(use_edges=True)\u001b[0m\u001b[1;33m\u001b[0m\u001b[1;33m\u001b[0m\u001b[1;33m\u001b[0m\u001b[0m\n\u001b[0;32m    399\u001b[0m     \u001b[0msmiles_l\u001b[0m \u001b[1;33m=\u001b[0m \u001b[0mlist\u001b[0m\u001b[1;33m(\u001b[0m\u001b[0mdf\u001b[0m\u001b[1;33m.\u001b[0m\u001b[0msmiles\u001b[0m\u001b[1;33m)\u001b[0m\u001b[1;33m\u001b[0m\u001b[1;33m\u001b[0m\u001b[0m\n\u001b[1;32m--> 400\u001b[1;33m     \u001b[0mx\u001b[0m \u001b[1;33m=\u001b[0m \u001b[0mfeaturizer\u001b[0m\u001b[1;33m.\u001b[0m\u001b[0mfeaturize\u001b[0m\u001b[1;33m(\u001b[0m\u001b[0msmiles_l\u001b[0m\u001b[1;33m)\u001b[0m\u001b[1;33m\u001b[0m\u001b[1;33m\u001b[0m\u001b[0m\n\u001b[0m\u001b[0;32m    401\u001b[0m     \u001b[0my_data\u001b[0m \u001b[1;33m=\u001b[0m \u001b[0mdf\u001b[0m\u001b[1;33m.\u001b[0m\u001b[0mLogLD\u001b[0m\u001b[1;33m\u001b[0m\u001b[1;33m\u001b[0m\u001b[0m\n\u001b[0;32m    402\u001b[0m     \u001b[0mdataset\u001b[0m \u001b[1;33m=\u001b[0m \u001b[0mdc\u001b[0m\u001b[1;33m.\u001b[0m\u001b[0mdata\u001b[0m\u001b[1;33m.\u001b[0m\u001b[0mNumpyDataset\u001b[0m\u001b[1;33m(\u001b[0m\u001b[0mX\u001b[0m\u001b[1;33m=\u001b[0m\u001b[0mx\u001b[0m\u001b[1;33m,\u001b[0m \u001b[0my\u001b[0m\u001b[1;33m=\u001b[0m\u001b[0my_data\u001b[0m\u001b[1;33m)\u001b[0m\u001b[1;33m\u001b[0m\u001b[1;33m\u001b[0m\u001b[0m\n",
      "\u001b[1;32m~\\.conda\\envs\\Miku\\lib\\site-packages\\deepchem\\feat\\base_classes.py\u001b[0m in \u001b[0;36mfeaturize\u001b[1;34m(self, datapoints, log_every_n, **kwargs)\u001b[0m\n\u001b[0;32m    311\u001b[0m         \u001b[1;32mfor\u001b[0m \u001b[0mkey\u001b[0m \u001b[1;32min\u001b[0m \u001b[0mkwargs\u001b[0m\u001b[1;33m.\u001b[0m\u001b[0mkeys\u001b[0m\u001b[1;33m(\u001b[0m\u001b[1;33m)\u001b[0m\u001b[1;33m:\u001b[0m\u001b[1;33m\u001b[0m\u001b[1;33m\u001b[0m\u001b[0m\n\u001b[0;32m    312\u001b[0m           \u001b[0mkwargs_per_datapoint\u001b[0m\u001b[1;33m[\u001b[0m\u001b[0mkey\u001b[0m\u001b[1;33m]\u001b[0m \u001b[1;33m=\u001b[0m \u001b[0mkwargs\u001b[0m\u001b[1;33m[\u001b[0m\u001b[0mkey\u001b[0m\u001b[1;33m]\u001b[0m\u001b[1;33m[\u001b[0m\u001b[0mi\u001b[0m\u001b[1;33m]\u001b[0m\u001b[1;33m\u001b[0m\u001b[1;33m\u001b[0m\u001b[0m\n\u001b[1;32m--> 313\u001b[1;33m         \u001b[0mfeatures\u001b[0m\u001b[1;33m.\u001b[0m\u001b[0mappend\u001b[0m\u001b[1;33m(\u001b[0m\u001b[0mself\u001b[0m\u001b[1;33m.\u001b[0m\u001b[0m_featurize\u001b[0m\u001b[1;33m(\u001b[0m\u001b[0mmol\u001b[0m\u001b[1;33m,\u001b[0m \u001b[1;33m**\u001b[0m\u001b[0mkwargs_per_datapoint\u001b[0m\u001b[1;33m)\u001b[0m\u001b[1;33m)\u001b[0m\u001b[1;33m\u001b[0m\u001b[1;33m\u001b[0m\u001b[0m\n\u001b[0m\u001b[0;32m    314\u001b[0m       \u001b[1;32mexcept\u001b[0m \u001b[0mException\u001b[0m \u001b[1;32mas\u001b[0m \u001b[0me\u001b[0m\u001b[1;33m:\u001b[0m\u001b[1;33m\u001b[0m\u001b[1;33m\u001b[0m\u001b[0m\n\u001b[0;32m    315\u001b[0m         \u001b[1;32mif\u001b[0m \u001b[0misinstance\u001b[0m\u001b[1;33m(\u001b[0m\u001b[0mmol\u001b[0m\u001b[1;33m,\u001b[0m \u001b[0mChem\u001b[0m\u001b[1;33m.\u001b[0m\u001b[0mrdchem\u001b[0m\u001b[1;33m.\u001b[0m\u001b[0mMol\u001b[0m\u001b[1;33m)\u001b[0m\u001b[1;33m:\u001b[0m\u001b[1;33m\u001b[0m\u001b[1;33m\u001b[0m\u001b[0m\n",
      "\u001b[1;32m~\\.conda\\envs\\Miku\\lib\\site-packages\\deepchem\\feat\\molecule_featurizers\\mol_graph_conv_featurizer.py\u001b[0m in \u001b[0;36m_featurize\u001b[1;34m(self, datapoint, **kwargs)\u001b[0m\n\u001b[0;32m    208\u001b[0m             _construct_atom_feature(atom, h_bond_infos, self.use_chirality,\n\u001b[0;32m    209\u001b[0m                                     self.use_partial_charge)\n\u001b[1;32m--> 210\u001b[1;33m             \u001b[1;32mfor\u001b[0m \u001b[0matom\u001b[0m \u001b[1;32min\u001b[0m \u001b[0mdatapoint\u001b[0m\u001b[1;33m.\u001b[0m\u001b[0mGetAtoms\u001b[0m\u001b[1;33m(\u001b[0m\u001b[1;33m)\u001b[0m\u001b[1;33m\u001b[0m\u001b[1;33m\u001b[0m\u001b[0m\n\u001b[0m\u001b[0;32m    211\u001b[0m         ],\n\u001b[0;32m    212\u001b[0m         \u001b[0mdtype\u001b[0m\u001b[1;33m=\u001b[0m\u001b[0mfloat\u001b[0m\u001b[1;33m,\u001b[0m\u001b[1;33m\u001b[0m\u001b[1;33m\u001b[0m\u001b[0m\n",
      "\u001b[1;32m~\\.conda\\envs\\Miku\\lib\\site-packages\\deepchem\\feat\\molecule_featurizers\\mol_graph_conv_featurizer.py\u001b[0m in \u001b[0;36m<listcomp>\u001b[1;34m(.0)\u001b[0m\n\u001b[0;32m    208\u001b[0m             _construct_atom_feature(atom, h_bond_infos, self.use_chirality,\n\u001b[0;32m    209\u001b[0m                                     self.use_partial_charge)\n\u001b[1;32m--> 210\u001b[1;33m             \u001b[1;32mfor\u001b[0m \u001b[0matom\u001b[0m \u001b[1;32min\u001b[0m \u001b[0mdatapoint\u001b[0m\u001b[1;33m.\u001b[0m\u001b[0mGetAtoms\u001b[0m\u001b[1;33m(\u001b[0m\u001b[1;33m)\u001b[0m\u001b[1;33m\u001b[0m\u001b[1;33m\u001b[0m\u001b[0m\n\u001b[0m\u001b[0;32m    211\u001b[0m         ],\n\u001b[0;32m    212\u001b[0m         \u001b[0mdtype\u001b[0m\u001b[1;33m=\u001b[0m\u001b[0mfloat\u001b[0m\u001b[1;33m,\u001b[0m\u001b[1;33m\u001b[0m\u001b[1;33m\u001b[0m\u001b[0m\n",
      "\u001b[1;32m~\\.conda\\envs\\Miku\\lib\\site-packages\\deepchem\\feat\\molecule_featurizers\\mol_graph_conv_featurizer.py\u001b[0m in \u001b[0;36m_construct_atom_feature\u001b[1;34m(atom, h_bond_infos, use_chirality, use_partial_charge)\u001b[0m\n\u001b[0;32m     61\u001b[0m   atom_feat = np.concatenate([\n\u001b[0;32m     62\u001b[0m       \u001b[0matom_type\u001b[0m\u001b[1;33m,\u001b[0m \u001b[0mformal_charge\u001b[0m\u001b[1;33m,\u001b[0m \u001b[0mhybridization\u001b[0m\u001b[1;33m,\u001b[0m \u001b[0macceptor_donor\u001b[0m\u001b[1;33m,\u001b[0m \u001b[0maromatic\u001b[0m\u001b[1;33m,\u001b[0m \u001b[0mdegree\u001b[0m\u001b[1;33m,\u001b[0m\u001b[1;33m\u001b[0m\u001b[1;33m\u001b[0m\u001b[0m\n\u001b[1;32m---> 63\u001b[1;33m       \u001b[0mtotal_num_Hs\u001b[0m\u001b[1;33m\u001b[0m\u001b[1;33m\u001b[0m\u001b[0m\n\u001b[0m\u001b[0;32m     64\u001b[0m   ])\n\u001b[0;32m     65\u001b[0m \u001b[1;33m\u001b[0m\u001b[0m\n",
      "\u001b[1;32m<__array_function__ internals>\u001b[0m in \u001b[0;36mconcatenate\u001b[1;34m(*args, **kwargs)\u001b[0m\n",
      "\u001b[1;31mKeyboardInterrupt\u001b[0m: "
     ]
    }
   ],
   "source": [
    "recorder, model = utils.run_fun_AFP_MAT(model=GCN, \n",
    "                                        train_dataset= train,\n",
    "                                        test_dataset= test,\n",
    "                                        mode= \"GAT\",\n",
    "                                        epoch= 40,\n",
    "                                        save= True,\n",
    "                                       )"
   ]
  },
  {
   "cell_type": "code",
   "execution_count": null,
   "id": "5efa42fc",
   "metadata": {},
   "outputs": [],
   "source": []
  }
 ],
 "metadata": {
  "kernelspec": {
   "display_name": "Miku",
   "language": "python",
   "name": "miku"
  },
  "language_info": {
   "codemirror_mode": {
    "name": "ipython",
    "version": 3
   },
   "file_extension": ".py",
   "mimetype": "text/x-python",
   "name": "python",
   "nbconvert_exporter": "python",
   "pygments_lexer": "ipython3",
   "version": "3.7.16"
  },
  "toc": {
   "base_numbering": 1,
   "nav_menu": {},
   "number_sections": true,
   "sideBar": true,
   "skip_h1_title": false,
   "title_cell": "Table of Contents",
   "title_sidebar": "Contents",
   "toc_cell": false,
   "toc_position": {},
   "toc_section_display": true,
   "toc_window_display": false
  }
 },
 "nbformat": 4,
 "nbformat_minor": 5
}
