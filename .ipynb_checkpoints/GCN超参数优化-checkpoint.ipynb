{
 "cells": [
  {
   "cell_type": "markdown",
   "id": "9f8096ed",
   "metadata": {},
   "source": [
    "## 导入库+加载数据"
   ]
  },
  {
   "cell_type": "code",
   "execution_count": 1,
   "id": "7338997b",
   "metadata": {},
   "outputs": [
    {
     "name": "stderr",
     "output_type": "stream",
     "text": [
      "Skipped loading some Tensorflow models, missing a dependency. No module named 'tensorflow'\n",
      "Skipped loading modules with pytorch-lightning dependency, missing a dependency. No module named 'pytorch_lightning'\n",
      "Skipped loading some Jax models, missing a dependency. No module named 'jax'\n"
     ]
    }
   ],
   "source": [
    "from models import utils,Layers"
   ]
  },
  {
   "cell_type": "code",
   "execution_count": 2,
   "id": "85b5946f",
   "metadata": {},
   "outputs": [],
   "source": [
    "from DB.DB import db"
   ]
  },
  {
   "cell_type": "code",
   "execution_count": 4,
   "id": "48409a1f",
   "metadata": {},
   "outputs": [
    {
     "name": "stdout",
     "output_type": "stream",
     "text": [
      "data already finished size =9026\n"
     ]
    }
   ],
   "source": [
    "dataloader = db('DataBase/DB.csv')"
   ]
  },
  {
   "cell_type": "code",
   "execution_count": 6,
   "id": "144ba57c",
   "metadata": {},
   "outputs": [
    {
     "name": "stdout",
     "output_type": "stream",
     "text": [
      "fold0\n"
     ]
    },
    {
     "data": {
      "text/plain": [
       "(7220, 3)"
      ]
     },
     "execution_count": 6,
     "metadata": {},
     "output_type": "execute_result"
    }
   ],
   "source": [
    "train, test = next(dataloader.get_folds())\n",
    "train.shape"
   ]
  },
  {
   "cell_type": "code",
   "execution_count": 7,
   "id": "5ae0a45d",
   "metadata": {},
   "outputs": [],
   "source": [
    "from deepchem.models import GCNModel"
   ]
  },
  {
   "cell_type": "markdown",
   "id": "d1e7882b",
   "metadata": {},
   "source": [
    "## 定义模型然后进行超参数优化"
   ]
  },
  {
   "cell_type": "code",
   "execution_count": 12,
   "id": "c23fbdf8",
   "metadata": {},
   "outputs": [],
   "source": [
    "GCN = GCNModel(mode='regression',  \n",
    "               n_tasks=1,\n",
    "               graph_conv_layers =[64 for i in range(5)], # 图卷积层数和卷积核的大小\n",
    "               batch_size=64,  \n",
    "               learning_rate=0.008)"
   ]
  },
  {
   "cell_type": "code",
   "execution_count": null,
   "id": "5170df70",
   "metadata": {},
   "outputs": [],
   "source": [
    "recorder, model = utils.run_fun_AFP_MAT(model=GCN, \n",
    "                                        train_dataset= train,\n",
    "                                        test_dataset= test,\n",
    "                                        mode= \"GAT\",\n",
    "                                        epoch= 40,\n",
    "                                        save= True,\n",
    "                                       )"
   ]
  }
 ],
 "metadata": {
  "kernelspec": {
   "display_name": "Miku",
   "language": "python",
   "name": "miku"
  },
  "language_info": {
   "codemirror_mode": {
    "name": "ipython",
    "version": 3
   },
   "file_extension": ".py",
   "mimetype": "text/x-python",
   "name": "python",
   "nbconvert_exporter": "python",
   "pygments_lexer": "ipython3",
   "version": "3.7.16"
  },
  "toc": {
   "base_numbering": 1,
   "nav_menu": {},
   "number_sections": true,
   "sideBar": true,
   "skip_h1_title": false,
   "title_cell": "Table of Contents",
   "title_sidebar": "Contents",
   "toc_cell": false,
   "toc_position": {},
   "toc_section_display": true,
   "toc_window_display": false
  }
 },
 "nbformat": 4,
 "nbformat_minor": 5
}
