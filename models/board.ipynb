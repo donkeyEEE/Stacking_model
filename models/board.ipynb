{
 "cells": [
  {
   "cell_type": "code",
   "execution_count": 1,
   "metadata": {
    "collapsed": true
   },
   "outputs": [
    {
     "name": "stderr",
     "output_type": "stream",
     "text": [
      "Skipped loading some Tensorflow models, missing a dependency. No module named 'tensorflow'\n",
      "Skipped loading modules with pytorch-lightning dependency, missing a dependency. No module named 'pytorch_lightning'\n",
      "Skipped loading some Jax models, missing a dependency. No module named 'jax'\n"
     ]
    }
   ],
   "source": [
    "import pandas\n",
    "from tqdm import tqdm\n",
    "import warnings\n",
    "warnings.filterwarnings(\"ignore\")\n",
    "import numpy as np\n",
    "import pandas as pd\n",
    "\n",
    "from sklearn.metrics import mean_absolute_error,mean_squared_error,r2_score,accuracy_score,recall_score\n",
    "\n",
    "import seaborn as sns\n",
    "import matplotlib.pyplot as plt\n",
    "\n",
    "from matplotlib.offsetbox import AnchoredText\n",
    "import matplotlib.font_manager as font_manager\n",
    "import matplotlib.colors as mcolors\n",
    "import matplotlib.pyplot as plt\n",
    "from matplotlib.offsetbox import AnchoredText\n",
    "from scipy.stats import gaussian_kde\n",
    "from utils import plot_parity, metric_r"
   ]
  },
  {
   "cell_type": "code",
   "execution_count": 1,
   "outputs": [],
   "source": [],
   "metadata": {
    "collapsed": false,
    "pycharm": {
     "name": "#%%\n"
    }
   }
  },
  {
   "cell_type": "code",
   "execution_count": 2,
   "outputs": [],
   "source": [
    "\n",
    "def read_recorder(path,Lay_nb):\n",
    "    recorder = []\n",
    "    for i in range(5):\n",
    "        df_train = pd.read_csv('{}/df_train_L{}_fold{}'\n",
    "                               .format(path,Lay_nb,i),\n",
    "                               index_col=0)\n",
    "        df_test = pd.read_csv('{}/df_test_L{}_fold{}'\n",
    "                               .format(path,Lay_nb,i),\n",
    "                               index_col=0)\n",
    "        recorder.append([df_train,df_test])\n",
    "    return recorder\n",
    "\n",
    "# 根据recorder计算每个df的指标\n",
    "def cal_recorder(r):\n",
    "    metric_recorder2 =[]\n",
    "    for i in range(5):\n",
    "        lis =[]\n",
    "        for j in range(2):\n",
    "            dic = {}\n",
    "            for x in list(r[0][0].columns)[1:]:\n",
    "                arr_x = np.array(recorder[i][j][x])\n",
    "                arr_x_true = np.array(recorder[i][j]['true'])\n",
    "                mae,rmse ,r2= metric_r(arr_x_true,arr_x)\n",
    "                dic[x] = [mae,rmse ,r2]\n",
    "            lis.append(pd.DataFrame(dic , index=['MAE','RMSE' ,'r2']))\n",
    "        metric_recorder2.append(lis)\n",
    "    return metric_recorder2\n",
    "\n",
    "def pre_recorder(recorder_metric):\n",
    "    a2d=0\n",
    "    for i in range(5):\n",
    "        a2d += recorder_metric[i][1].values\n",
    "    a2d = a2d/5\n",
    "    lay1_output_df = pd.DataFrame(a2d,index=recorder_metric[i][1].index , columns=metric_recorder[i][1].columns)\n",
    "    print('模型性能五折平均值')\n",
    "    return lay1_output_df\n",
    "\n",
    "def sta_recoder(recorder_metric):\n",
    "    static_data = []\n",
    "    for x in list(recorder_metric[0][0].columns)[1:]:\n",
    "        lis = [recorder_metric[i][1][x]['RMSE']  for i in range(5) ]\n",
    "        static_data.append(lis)\n",
    "    return static_data\n",
    "\n",
    "\n",
    "def plot_bar(static_data_all, name_lis =[]):\n",
    "    # 设置全局字体为Times New Roman\n",
    "    plt.rcParams[\"font.family\"] = \"Times New Roman\"\n",
    "    plt.ylim((0.48,0.67))\n",
    "    # 指定颜色列表\n",
    "    colors = [(229, 190, 121), (62, 134, 181), (51, 100, 133), (149, 167, 126)]\n",
    "\n",
    "    # 转换为 Matplotlib 可接受的颜色格式\n",
    "    colors = [(r/255, g/255, b/255) for (r, g, b) in colors]\n",
    "\n",
    "    # 创建箱线图\n",
    "    sns.set(style=\"white\", font='Times New Roman', palette=colors,font_scale=1.6)\n",
    "    #sns.set(style=\"darkgrid\", font='Times New Roman', palette=colors)\n",
    "    ax = sns.boxplot(data=static_data_all,width=0.7)\n",
    "\n",
    "    # 添加标签和标题\n",
    "    #ax.set_xticklabels(['AFP', 'MPNN', 'SVR', 'RF','MLR(2)', 'SVR(2)', 'RF(2)','Stacking(3)'],\n",
    "    #                   fontname='Times New Roman', fontsize=15, rotation = 30)\n",
    "\n",
    "    #ax.set_yticks([0.400,0.450,0.500,0.550],fontsize=100)\n",
    "    #ax.set_ylabel('$RMSE$', fontname='Times New Roman', fontsize=20, rotation=0)\n",
    "\n",
    "    #ax.set_yticklabels(['0','0.4','0.5','0.6','0.7','0.8'], fontdict={'fontname': 'Times New Roman', 'fontsize': 20})\n",
    "\n",
    "    ax.yaxis.set_label_coords(-0.2, 0.5)\n",
    "    plt.subplots_adjust(left=0.2)\n",
    "    # plt.savefig('Five-fold all',dpi=600)"
   ],
   "metadata": {
    "collapsed": false,
    "pycharm": {
     "name": "#%%\n"
    }
   }
  },
  {
   "cell_type": "code",
   "execution_count": 3,
   "outputs": [],
   "source": [
    "# 读取五折结果\n",
    "recorder = read_recorder(path=\"DATA_CHECKPOINT\",Lay_nb=1)"
   ],
   "metadata": {
    "collapsed": false,
    "pycharm": {
     "name": "#%%\n"
    }
   }
  },
  {
   "cell_type": "code",
   "execution_count": 36,
   "outputs": [],
   "source": [],
   "metadata": {
    "collapsed": false,
    "pycharm": {
     "name": "#%%\n"
    }
   }
  },
  {
   "cell_type": "code",
   "execution_count": 4,
   "outputs": [],
   "source": [
    "metric_recorder = cal_recorder(recorder)"
   ],
   "metadata": {
    "collapsed": false,
    "pycharm": {
     "name": "#%%\n"
    }
   }
  },
  {
   "cell_type": "code",
   "execution_count": 43,
   "outputs": [],
   "source": [],
   "metadata": {
    "collapsed": false,
    "pycharm": {
     "name": "#%%\n"
    }
   }
  },
  {
   "cell_type": "code",
   "execution_count": 45,
   "outputs": [
    {
     "name": "stdout",
     "output_type": "stream",
     "text": [
      "模型性能五折平均值\n"
     ]
    },
    {
     "data": {
      "text/plain": "           AFP       GAT      MPNN       DNN        RF       SVR\nMAE   0.425787  0.479596  0.402476  0.462266  0.408296  0.404495\nRMSE  0.598437  0.792793  0.565164  0.627957  0.573167  0.568558\nr2    0.451845 -0.071583  0.510166  0.396574  0.497273  0.505633",
      "text/html": "<div>\n<style scoped>\n    .dataframe tbody tr th:only-of-type {\n        vertical-align: middle;\n    }\n\n    .dataframe tbody tr th {\n        vertical-align: top;\n    }\n\n    .dataframe thead th {\n        text-align: right;\n    }\n</style>\n<table border=\"1\" class=\"dataframe\">\n  <thead>\n    <tr style=\"text-align: right;\">\n      <th></th>\n      <th>AFP</th>\n      <th>GAT</th>\n      <th>MPNN</th>\n      <th>DNN</th>\n      <th>RF</th>\n      <th>SVR</th>\n    </tr>\n  </thead>\n  <tbody>\n    <tr>\n      <th>MAE</th>\n      <td>0.425787</td>\n      <td>0.479596</td>\n      <td>0.402476</td>\n      <td>0.462266</td>\n      <td>0.408296</td>\n      <td>0.404495</td>\n    </tr>\n    <tr>\n      <th>RMSE</th>\n      <td>0.598437</td>\n      <td>0.792793</td>\n      <td>0.565164</td>\n      <td>0.627957</td>\n      <td>0.573167</td>\n      <td>0.568558</td>\n    </tr>\n    <tr>\n      <th>r2</th>\n      <td>0.451845</td>\n      <td>-0.071583</td>\n      <td>0.510166</td>\n      <td>0.396574</td>\n      <td>0.497273</td>\n      <td>0.505633</td>\n    </tr>\n  </tbody>\n</table>\n</div>"
     },
     "execution_count": 45,
     "metadata": {},
     "output_type": "execute_result"
    }
   ],
   "source": [
    "pre_recorder(metric_recorder)\n"
   ],
   "metadata": {
    "collapsed": false,
    "pycharm": {
     "name": "#%%\n"
    }
   }
  },
  {
   "cell_type": "code",
   "execution_count": 55,
   "outputs": [],
   "source": [],
   "metadata": {
    "collapsed": false,
    "pycharm": {
     "name": "#%%\n"
    }
   }
  },
  {
   "cell_type": "code",
   "execution_count": 58,
   "outputs": [],
   "source": [
    "static_data_all = sta_recoder(metric_recorder)"
   ],
   "metadata": {
    "collapsed": false,
    "pycharm": {
     "name": "#%%\n"
    }
   }
  },
  {
   "cell_type": "code",
   "execution_count": 60,
   "outputs": [],
   "source": [],
   "metadata": {
    "collapsed": false,
    "pycharm": {
     "name": "#%%\n"
    }
   }
  },
  {
   "cell_type": "code",
   "execution_count": 61,
   "outputs": [
    {
     "data": {
      "text/plain": "<Figure size 640x480 with 1 Axes>",
      "image/png": "[encoded data removed]"
     },
     "metadata": {},
     "output_type": "display_data"
    }
   ],
   "source": [
    "plot_bar(static_data_all)"
   ],
   "metadata": {
    "collapsed": false,
    "pycharm": {
     "name": "#%%\n"
    }
   }
  }
 ],
 "metadata": {
  "kernelspec": {
   "name": "miku",
   "language": "python",
   "display_name": "Miku"
  },
  "language_info": {
   "codemirror_mode": {
    "name": "ipython",
    "version": 2
   },
   "file_extension": ".py",
   "mimetype": "text/x-python",
   "name": "python",
   "nbconvert_exporter": "python",
   "pygments_lexer": "ipython2",
   "version": "2.7.6"
  }
 },
 "nbformat": 4,
 "nbformat_minor": 0
}